{
 "cells": [
  {
   "cell_type": "code",
   "execution_count": 1,
   "id": "9cf9731f",
   "metadata": {},
   "outputs": [],
   "source": [
    "import numpy as np\n",
    "from numpy import array, random, dot\n",
    "import matplotlib.pyplot as plt\n",
    "from sklearn import datasets"
   ]
  },
  {
   "cell_type": "markdown",
   "id": "cde1ef36",
   "metadata": {},
   "source": [
    "# Regression\n"
   ]
  },
  {
   "cell_type": "code",
   "execution_count": 95,
   "id": "c909f15a",
   "metadata": {},
   "outputs": [
    {
     "data": {
      "image/png": "[encoded data removed]",
      "text/plain": [
       "<Figure size 432x288 with 1 Axes>"
      ]
     },
     "metadata": {
      "needs_background": "light"
     },
     "output_type": "display_data"
    }
   ],
   "source": [
    "X, Y = datasets.make_regression(n_features=3,n_targets=1)\n",
    "plt.scatter(X[:, 0], Y, cmap='viridis')\n",
    "plt.show()"
   ]
  },
  {
   "cell_type": "markdown",
   "id": "759916a9",
   "metadata": {},
   "source": [
    "# Classification"
   ]
  },
  {
   "cell_type": "code",
   "execution_count": 130,
   "id": "3c29d817",
   "metadata": {},
   "outputs": [
    {
     "data": {
      "image/png": "[encoded data removed]",
      "text/plain": [
       "<Figure size 432x288 with 1 Axes>"
      ]
     },
     "metadata": {
      "needs_background": "light"
     },
     "output_type": "display_data"
    }
   ],
   "source": [
    "X, Y = datasets.make_blobs(n_samples=100, n_features=3, centers=2)\n",
    "plt.scatter(X[:, 0], X[:, 1],c=[Y], cmap='viridis')\n",
    "plt.show()"
   ]
  },
  {
   "cell_type": "code",
   "execution_count": 112,
   "id": "778310af",
   "metadata": {},
   "outputs": [],
   "source": [
    "def encode_indices(y):\n",
    "    '''\n",
    "    Simple one hot encoder for softmax \n",
    "    y = all target labels (1,2,0,...,2)\n",
    "    y_encoded = [[0,1,0], [0,0,1],... etc]\n",
    "    '''\n",
    "    b = np.zeros((y.size, y.max() + 1))\n",
    "    b[np.arange(y.size), y] = 1\n",
    "    return b"
   ]
  },
  {
   "cell_type": "markdown",
   "id": "ef000f36",
   "metadata": {},
   "source": [
    "---"
   ]
  },
  {
   "cell_type": "code",
   "execution_count": 6,
   "id": "aa0c9aa2",
   "metadata": {},
   "outputs": [],
   "source": [
    "class activation():\n",
    "    def __init__(self):\n",
    "        pass\n",
    "    def activation(self,):\n",
    "        pass\n",
    "    def derivative(self,):\n",
    "        pass"
   ]
  },
  {
   "cell_type": "code",
   "execution_count": 7,
   "id": "f5871612",
   "metadata": {},
   "outputs": [],
   "source": [
    "class softmax_act(activation):\n",
    "    def __name__(self):\n",
    "        return 'softmax'\n",
    "    \n",
    "    def activation(self,z):\n",
    "        exp_outputs = np.exp([z])\n",
    "        probabilities = exp_outputs / np.sum(exp_outputs, axis=1, keepdims=True)\n",
    "        return probabilities.flatten()\n",
    "    \n",
    "    def derivative(self,A):\n",
    "        return np.diagflat(A) - np.outer(A, A)"
   ]
  },
  {
   "cell_type": "code",
   "execution_count": 8,
   "id": "e5a5821c",
   "metadata": {},
   "outputs": [],
   "source": [
    "class sigmoid_act(activation):\n",
    "    def __name__(self):\n",
    "        return 'sigmoid'\n",
    "    \n",
    "    def activation(self,z):\n",
    "        return 1/(1+np.exp(-z))\n",
    "    \n",
    "    def derivative(self,A):\n",
    "        return A *  (1 - A)"
   ]
  },
  {
   "cell_type": "code",
   "execution_count": 9,
   "id": "c56f4e7a",
   "metadata": {},
   "outputs": [],
   "source": [
    "class relu_act(activation):\n",
    "    def __name__(self):\n",
    "        return 'relu'\n",
    "    \n",
    "    def activation(self,z):\n",
    "        return np.maximum(0,z)\n",
    "    \n",
    "    def derivative(self,A):\n",
    "        # is this wrong?\n",
    "        A[A < 0] = 0\n",
    "        A[A > 0] = 1\n",
    "        return A \n",
    "    \n",
    "#     def derivative(self, dA, Z):\n",
    "#         \"\"\"\n",
    "#         ReLU Derivative Function\n",
    "#         \"\"\"\n",
    "#         dZ = np.array(dA, copy = True)\n",
    "#         dZ[Z <= 0] = 0\n",
    "#         return dZ"
   ]
  },
  {
   "cell_type": "code",
   "execution_count": 10,
   "id": "e337aa91",
   "metadata": {},
   "outputs": [],
   "source": [
    "class identity_act(activation):\n",
    "    def __name__(self):\n",
    "        return 'identity'\n",
    "    \n",
    "    def activation(self,z):\n",
    "        return z\n",
    "    \n",
    "    def derivative(self,A):\n",
    "        return 1"
   ]
  },
  {
   "cell_type": "markdown",
   "id": "b09e2669",
   "metadata": {},
   "source": [
    "---"
   ]
  },
  {
   "cell_type": "code",
   "execution_count": 11,
   "id": "db3e41fe",
   "metadata": {},
   "outputs": [],
   "source": [
    "class loss():\n",
    "    def __init__(self):\n",
    "        pass\n",
    "    def loss(self,):\n",
    "        pass\n",
    "    def derivative(self,):\n",
    "        pass"
   ]
  },
  {
   "cell_type": "code",
   "execution_count": 12,
   "id": "b22ab4df",
   "metadata": {},
   "outputs": [],
   "source": [
    "class ce_loss(loss):\n",
    "    def loss(self,A,y):\n",
    "        '''\n",
    "        softmax cross entropy loss\n",
    "        y encoded targets!\n",
    "        loss = - sum (log(y_hat) * y)\n",
    "        \n",
    "        '''\n",
    "        loss = - dot(np.log(A), y)\n",
    "        return loss\n",
    "    \n",
    "        \n",
    "    def derivative(self,A,y):\n",
    "        dA = - y / A # CEd(loss) / d (output:A)\n",
    "        return dA"
   ]
  },
  {
   "cell_type": "code",
   "execution_count": 13,
   "id": "749cc7a0",
   "metadata": {},
   "outputs": [],
   "source": [
    "class bce_loss(loss):\n",
    "    def loss(self,A,y):\n",
    "        '''\n",
    "        binary cross entropy loss (no encoding)\n",
    "        loss = (-y * log(A) - (1-y) * log (1-A)\n",
    "        '''\n",
    "        \n",
    "        loss = - y * np.log(A) - (1-y) * np.log(1-A) # binary CE\n",
    "        return loss\n",
    "    \n",
    "        \n",
    "    def derivative(self,A,y):\n",
    "        dA = - (y / (A)) + ((1 - y) / (1 - A)) # bce derivation\n",
    "        return dA"
   ]
  },
  {
   "cell_type": "code",
   "execution_count": 14,
   "id": "b456379b",
   "metadata": {},
   "outputs": [],
   "source": [
    "class mse_loss(loss):\n",
    "    def loss(self, A, y):\n",
    "        '''\n",
    "        mean square error loss\n",
    "        '''\n",
    "        loss = np.average( (y - A)**2 )\n",
    "        return loss\n",
    "    \n",
    "    def derivative(self,A,y):\n",
    "        dA =  - 2 * (y - A)\n",
    "        return dA"
   ]
  },
  {
   "cell_type": "markdown",
   "id": "4469b3cc",
   "metadata": {},
   "source": [
    "---"
   ]
  },
  {
   "cell_type": "code",
   "execution_count": 7,
   "id": "2610f3e0",
   "metadata": {},
   "outputs": [],
   "source": [
    "W = np.array([[1,2,3],[1,2,3],[1,2,3]]) \n",
    "A_prev = np.array([1,2,3]).flatten()\n",
    "b = np.zeros((3,1))\n",
    "b = A_prev.reshape(-1,1)"
   ]
  },
  {
   "cell_type": "code",
   "execution_count": 8,
   "id": "248f68dd",
   "metadata": {},
   "outputs": [
    {
     "name": "stdout",
     "output_type": "stream",
     "text": [
      "(3, 3) (3,) (3, 1)\n"
     ]
    }
   ],
   "source": [
    "print(W.shape, A_prev.shape, b.shape)"
   ]
  },
  {
   "cell_type": "code",
   "execution_count": 61,
   "id": "50ab5c48",
   "metadata": {},
   "outputs": [
    {
     "data": {
      "text/plain": [
       "2"
      ]
     },
     "execution_count": 61,
     "metadata": {},
     "output_type": "execute_result"
    }
   ],
   "source": [
    "A_prev.reshape(-1,1).ndim"
   ]
  },
  {
   "cell_type": "code",
   "execution_count": 63,
   "id": "2fdb9182",
   "metadata": {},
   "outputs": [
    {
     "data": {
      "text/plain": [
       "array([[1],\n",
       "       [2],\n",
       "       [3]])"
      ]
     },
     "execution_count": 63,
     "metadata": {},
     "output_type": "execute_result"
    }
   ],
   "source": [
    "np.expand_dims(A_prev, axis = 1)"
   ]
  },
  {
   "cell_type": "code",
   "execution_count": 57,
   "id": "e28cf944",
   "metadata": {},
   "outputs": [
    {
     "data": {
      "text/plain": [
       "1"
      ]
     },
     "execution_count": 57,
     "metadata": {},
     "output_type": "execute_result"
    }
   ],
   "source": [
    "A_prev.ndim"
   ]
  },
  {
   "cell_type": "code",
   "execution_count": 9,
   "id": "8bef7c05",
   "metadata": {},
   "outputs": [
    {
     "data": {
      "text/plain": [
       "array([[2, 3, 4],\n",
       "       [3, 4, 5],\n",
       "       [4, 5, 6]])"
      ]
     },
     "execution_count": 9,
     "metadata": {},
     "output_type": "execute_result"
    }
   ],
   "source": [
    "A_prev + b"
   ]
  },
  {
   "cell_type": "code",
   "execution_count": 5,
   "id": "6f79c8bf",
   "metadata": {},
   "outputs": [
    {
     "data": {
      "text/plain": [
       "array([[14., 14., 14.],\n",
       "       [14., 14., 14.],\n",
       "       [14., 14., 14.]])"
      ]
     },
     "execution_count": 5,
     "metadata": {},
     "output_type": "execute_result"
    }
   ],
   "source": [
    "np.dot(W, A_prev) + b"
   ]
  },
  {
   "cell_type": "code",
   "execution_count": 18,
   "id": "75703a05",
   "metadata": {},
   "outputs": [
    {
     "data": {
      "text/plain": [
       "array([14., 14., 14.])"
      ]
     },
     "execution_count": 18,
     "metadata": {},
     "output_type": "execute_result"
    }
   ],
   "source": [
    "W @ A_prev + b.flatten()"
   ]
  },
  {
   "cell_type": "code",
   "execution_count": 204,
   "id": "e5796797",
   "metadata": {},
   "outputs": [],
   "source": [
    "class DenseLayer():\n",
    "    '''\n",
    "    Dense layer contains neurons (units)\n",
    "    properties:\n",
    "        - Z, A, Activation function, B, W, A_prev\n",
    "        - dA_next is generated from next layer used for current gradients\n",
    "        - dZ : activation function derivative\n",
    "        - dW : dA * dZ * Aprev\n",
    "        - db : dA * dZ * 1\n",
    "    '''\n",
    "    def __init__(self, units, activation): # activation_function, activation_derivative):\n",
    "        self.properties = {'W':0, 'b':0, 'Z':0,'A':0,'A_prev':0}\n",
    "        self.grads = {'dW':0, 'db':0, 'dZ':0,'dA_next':0}\n",
    "        self.units = units\n",
    "        self.activation = activation\n",
    "        \n",
    "    def _compile_dimensions(self, A_prev_dimension):\n",
    "        self.properties['W'] = np.random.randn(self.units,A_prev_dimension) * 0.01\n",
    "        self.properties['b'] = np.zeros((self.units,1))\n",
    "        \n",
    "        self.properties['Z'] = np.zeros(shape=(self.units, 1)) #(n[l],m) , m number of inputs, (1 for one input A_prev)\n",
    "        self.properties['A'] = np.zeros(shape=(self.units, 1)) #(n[l],m)\n",
    "        \n",
    "    def _forward_pass(self, A_prev):\n",
    "        self.properties['A_prev'] = A_prev\n",
    "        # broadcasting problems when using (+)\n",
    "        self.properties['Z'] = dot(self.properties['W'], A_prev ) + np.squeeze(self.properties['b']) #(n[l],1)\n",
    "        self.properties['A'] = self.activation.activation(self.properties['Z']) # (n[l],1)\n",
    "#         print(f\"\"\" ForwardPass\n",
    "#                   - Layer units {self.units}\n",
    "#                   - A {self.properties['A'].shape}\n",
    "#                   - Z {self.properties['Z'].shape}\n",
    "#                   - W {self.properties['W'].shape}\n",
    "#                   - b {self.properties['b'].shape}\n",
    "#                   - Aprev {A_prev.shape}\n",
    "#                \"\"\")\n",
    "        assert self.properties['A'].shape == self.properties['Z'].shape\n",
    "        \n",
    "#         print(f\"\"\" ForwardPass\n",
    "#                   - Layer units {self.units}\n",
    "#                   - A {self.properties['A'].shape}\n",
    "#                   - Z {self.properties['Z'].shape}\n",
    "#                   - W {self.properties['W'].shape}\n",
    "#                   - b {self.properties['b'].shape}\n",
    "#                   - Aprev {A_prev.shape}\n",
    "#                \"\"\")\n",
    "        return self.properties['A']\n",
    "    \n",
    "    def _backward_pass(self,dA):\n",
    "\n",
    "        self.grads['dA'] = dA\n",
    "        # element wise multiplication\n",
    "        # avoid braodcasting using squeeze (3,1) * (3,1)\n",
    "\n",
    "#         print(self.grads['dA'].shape)\n",
    "#         print(self.properties['A'].shape)\n",
    "#         assert self.grads['dA'].shape == self.properties['A'].shape\n",
    "#         assert self.grads['dZ'].shape == self.properties['Z'].shape\n",
    "#             print(f\"\"\" Backward Pass\n",
    "#             - Layer units {self.units}\n",
    "#             - dA {self.grads['dA'].shape}\n",
    "#             - dZ {self.grads['dZ'].shape}\n",
    "#             - dZ {self.grads['dZ']}\n",
    "#             - dA/dZ {self.activation.derivative(self.properties['A'])}\n",
    "#             \"\"\"\n",
    "#             )\n",
    "\n",
    "        if self.activation.__name__() == 'softmax':\n",
    "            self.grads['dZ'] = np.dot(np.squeeze(self.grads['dA']) , np.squeeze(self.activation.derivative(self.properties['A']))) #.reshape(-1,1)\n",
    "        else:\n",
    "            self.grads['dZ'] = np.multiply(np.squeeze(self.grads['dA']) , np.squeeze(self.activation.derivative(self.properties['A']))) #.reshape(-1,1)\n",
    "\n",
    "            \n",
    "        self.grads['dW'] = np.dot(self.grads['dZ'].reshape(-1,1) , self.properties['A_prev'].reshape(-1,1).T)\n",
    "        self.grads['db'] = np.sum(self.grads['dZ'].reshape(-1,1), axis=1, keepdims=True) #/m\n",
    "        dA = np.dot(self.properties['W'].T, self.grads['dZ'])\n",
    "        \n",
    "#         print(f\"\"\" Backward Pass\n",
    "#         - Layer units {self.units}\n",
    "#         - dW {self.grads['dW'].shape}\n",
    "#         - db {self.grads['db'].shape}\n",
    "#         - dA-1 {dA.shape}\n",
    "#         \"\"\")\n",
    "        return dA\n",
    "        \n",
    "    def _update_grads(self, lr=0.01):\n",
    "        self.properties['W'] = self.properties['W'] - lr * self.grads['dW']\n",
    "        self.properties['b'] = self.properties['b'] - lr * self.grads['db']"
   ]
  },
  {
   "cell_type": "code",
   "execution_count": 195,
   "id": "4fa1c5bc",
   "metadata": {},
   "outputs": [],
   "source": [
    "class Modellayers():\n",
    "    '''\n",
    "    layer composition\n",
    "    '''\n",
    "    def __init__(self):\n",
    "        self.layers = []\n",
    "        self.input_shape = None\n",
    "        self.lr = 0.01\n",
    "        self.verbosity = 0\n",
    "    def add(self, layer):\n",
    "        self.layers.append(layer)\n",
    "        \n",
    "    def compile_layers(self, input_shape=(1,)):\n",
    "        A_prev_dim = input_shape[0]\n",
    "        self.input_shape = input_shape\n",
    "        for layer in self.layers:\n",
    "            layer._compile_dimensions(A_prev_dim)\n",
    "            A_prev_dim = layer.units\n",
    "            \n",
    "    def forward_pass(self, inputs):\n",
    "        A_prev = inputs \n",
    "#         if inputs.ndim <=1:\n",
    "#             A_prev = np.expand_dims(inputs, axis = 1)\n",
    "        for layer in self.layers:\n",
    "            A_prev = layer._forward_pass(A_prev)\n",
    "        return A_prev # last output is the input to next layer\n",
    "    \n",
    "    def backward_pass(self, output, y, loss_derivative):\n",
    "        output = output.flatten()\n",
    "        dA = loss_derivative(output, y)\n",
    "        if(self.verbosity > 1):\n",
    "            print(f'''dL/dA : {dA.shape}''')\n",
    "            print('--- ', '1 backward pass')\n",
    "        for i, layer in enumerate(reversed(self.layers)):\n",
    "            if(self.verbosity > 1):\n",
    "                print('---'*10)\n",
    "                print(i, 'start')\n",
    "            dA = layer._backward_pass(dA)\n",
    "            layer._update_grads(self.lr)\n",
    "            if(self.verbosity > 1):\n",
    "                print(i, 'done')\n",
    "                print('---'*10)\n",
    "            \n",
    "    def train(self, Input_X, Input_Y, loss_function, lr = 0.01, epochs = 10):\n",
    "        self.lr = lr\n",
    "        epoch_loss = []\n",
    "\n",
    "        for epoch in range(epochs):\n",
    "            epoch_loss.append(0)\n",
    "            for i, x in enumerate(Input_X):\n",
    "                output = self.forward_pass(x)\n",
    "                loss = loss_function.loss(output, Input_Y[i])\n",
    "                self.backward_pass(output, Input_Y[i], loss_function.derivative)\n",
    "                epoch_loss[epoch] += loss\n",
    "                print('sample loss : ', epoch_loss[-1])\n",
    "        return epoch_loss\n",
    "   \n",
    "    \n",
    "    def view_model(self):\n",
    "        print(\"input_layer : \", self.input_shape)\n",
    "        for layer in self.layers:\n",
    "            print('--'*10)\n",
    "            print(\"dense_layer : \")\n",
    "            print(\"\\tW\",  layer.properties['W'].shape)\n",
    "            print(\"\\tA\",  layer.properties['A'].shape, layer.activation.__name__())"
   ]
  },
  {
   "cell_type": "code",
   "execution_count": 167,
   "id": "7a6bbefa",
   "metadata": {},
   "outputs": [],
   "source": [
    "mse_loss_func = mse_loss()\n",
    "ce_loss_func = ce_loss()\n",
    "relu_func = relu_act()\n",
    "softmax_func= softmax_act()\n",
    "sigmoid_func = sigmoid_act()\n",
    "identity_func = identity_act()"
   ]
  },
  {
   "cell_type": "code",
   "execution_count": 205,
   "id": "719e0d89",
   "metadata": {},
   "outputs": [
    {
     "name": "stdout",
     "output_type": "stream",
     "text": [
      "input_layer :  (3,)\n",
      "--------------------\n",
      "dense_layer : \n",
      "\tW (2, 3)\n",
      "\tA (2, 1) relu\n",
      "--------------------\n",
      "dense_layer : \n",
      "\tW (2, 2)\n",
      "\tA (2, 1) softmax\n"
     ]
    }
   ],
   "source": [
    "model = Modellayers()\n",
    "model.add(DenseLayer(2, relu_func))\n",
    "model.add(DenseLayer(2, softmax_func))\n",
    "model.compile_layers(input_shape=(3,))\n",
    "model.view_model()"
   ]
  },
  {
   "cell_type": "code",
   "execution_count": 206,
   "id": "260a1a4b",
   "metadata": {},
   "outputs": [
    {
     "name": "stdout",
     "output_type": "stream",
     "text": [
      "sample loss :  0.6944421636842926\n",
      "sample loss :  1.332516986335719\n",
      "sample loss :  1.9203766652399978\n",
      "sample loss :  2.4588524467112394\n",
      "sample loss :  3.37384527799046\n",
      "sample loss :  3.913737999173544\n",
      "sample loss :  4.804872125754424\n",
      "sample loss :  5.62144614365945\n",
      "sample loss :  6.371199302075174\n",
      "sample loss :  7.060765688977902\n",
      "sample loss :  7.7193685866768185\n",
      "sample loss :  8.201802007596712\n",
      "sample loss :  8.436670259767153\n",
      "sample loss :  8.524669320988675\n",
      "sample loss :  8.583507225164228\n",
      "sample loss :  9.353218896468606\n",
      "sample loss :  9.394162847466392\n",
      "sample loss :  10.101338265468435\n",
      "sample loss :  10.73570851442136\n",
      "sample loss :  10.754616723265546\n",
      "sample loss :  10.76633125081706\n",
      "sample loss :  11.322133574968836\n",
      "sample loss :  11.33663096857502\n",
      "sample loss :  11.357396693224317\n",
      "sample loss :  11.376048840708377\n",
      "sample loss :  11.81698290529825\n",
      "sample loss :  12.082926445986638\n",
      "sample loss :  12.277437000632364\n",
      "sample loss :  12.293889010407474\n",
      "sample loss :  12.384662357399106\n",
      "sample loss :  12.402630621287878\n",
      "sample loss :  12.41672476989714\n",
      "sample loss :  12.481599919846358\n",
      "sample loss :  12.51483186957278\n",
      "sample loss :  12.525845699241279\n",
      "sample loss :  12.545845592703026\n",
      "sample loss :  12.550151231689998\n",
      "sample loss :  12.556669740473238\n",
      "sample loss :  12.561283075803626\n",
      "sample loss :  12.576685822728711\n",
      "sample loss :  12.581642183107476\n",
      "sample loss :  12.60927916799542\n",
      "sample loss :  12.619891171802793\n",
      "sample loss :  12.622552146279475\n",
      "sample loss :  12.630219906376317\n",
      "sample loss :  12.644009384997105\n",
      "sample loss :  12.647899923956027\n",
      "sample loss :  12.657725784967889\n",
      "sample loss :  12.671863871161614\n",
      "sample loss :  12.68254846369609\n",
      "sample loss :  12.68391008621884\n",
      "sample loss :  12.691884237014591\n",
      "sample loss :  12.69479024909688\n",
      "sample loss :  12.696392661028602\n",
      "sample loss :  12.699870396930724\n",
      "sample loss :  12.708597806721116\n",
      "sample loss :  12.730495879977694\n",
      "sample loss :  12.736581813994121\n",
      "sample loss :  12.737468645361822\n",
      "sample loss :  12.739621117148939\n",
      "sample loss :  12.74207384680972\n",
      "sample loss :  12.747622063288178\n",
      "sample loss :  12.752857624132059\n",
      "sample loss :  12.754319895566795\n",
      "sample loss :  12.756641331237974\n",
      "sample loss :  12.75766044663263\n",
      "sample loss :  12.760235625462833\n",
      "sample loss :  12.763101037577272\n",
      "sample loss :  12.768139964646714\n",
      "sample loss :  12.772700111989739\n",
      "sample loss :  12.788727740037091\n",
      "sample loss :  12.790803717716217\n",
      "sample loss :  12.791507914123237\n",
      "sample loss :  12.792219196658175\n",
      "sample loss :  12.79339596939959\n",
      "sample loss :  12.795540200562161\n",
      "sample loss :  12.801707191219057\n",
      "sample loss :  12.802791294156776\n",
      "sample loss :  12.805254344675207\n",
      "sample loss :  12.806317397164953\n",
      "sample loss :  12.807515530332624\n",
      "sample loss :  12.812872183267672\n",
      "sample loss :  12.815349168896748\n",
      "sample loss :  12.817810455807841\n",
      "sample loss :  12.818711484003904\n",
      "sample loss :  12.822085392770404\n",
      "sample loss :  12.824578184187377\n",
      "sample loss :  12.830129346975918\n",
      "sample loss :  12.83117856803619\n",
      "sample loss :  12.83209986664621\n",
      "sample loss :  12.83271168005474\n",
      "sample loss :  12.833563609654208\n",
      "sample loss :  12.837298509995051\n",
      "sample loss :  12.839083863044896\n",
      "sample loss :  12.842215467337269\n",
      "sample loss :  12.844227607893494\n",
      "sample loss :  12.847539698837286\n",
      "sample loss :  12.84952431697235\n",
      "sample loss :  12.850364891324858\n",
      "sample loss :  12.850691907126663\n",
      "sample loss :  0.001590712680106278\n",
      "sample loss :  0.002111769758762527\n",
      "sample loss :  0.004591547300517443\n",
      "sample loss :  0.00566462216537473\n",
      "sample loss :  0.010915438368954151\n",
      "sample loss :  0.01300432919742709\n",
      "sample loss :  0.015383914442689623\n",
      "sample loss :  0.015507295409547065\n",
      "sample loss :  0.017766563228174014\n",
      "sample loss :  0.018277391965183087\n",
      "sample loss :  0.018777640081154144\n",
      "sample loss :  0.021221977364621364\n",
      "sample loss :  0.022135536664256404\n",
      "sample loss :  0.022852058427277736\n",
      "sample loss :  0.024207684856211997\n",
      "sample loss :  0.025254848621418174\n",
      "sample loss :  0.026523690481777166\n",
      "sample loss :  0.02769644781526246\n",
      "sample loss :  0.028116120460892843\n",
      "sample loss :  0.028467048780584016\n",
      "sample loss :  0.02870028261225301\n",
      "sample loss :  0.030504240445494924\n",
      "sample loss :  0.03091826512083875\n",
      "sample loss :  0.03206473193454281\n",
      "sample loss :  0.03349447393881339\n",
      "sample loss :  0.0346935095299393\n",
      "sample loss :  0.03522552397958975\n",
      "sample loss :  0.039110349934935944\n",
      "sample loss :  0.04035086264001252\n",
      "sample loss :  0.04196926115375003\n",
      "sample loss :  0.043843448130793244\n",
      "sample loss :  0.04556755788020897\n",
      "sample loss :  0.04778583250635157\n",
      "sample loss :  0.04889360356519425\n",
      "sample loss :  0.04910217929988068\n",
      "sample loss :  0.04998659810188095\n",
      "sample loss :  0.050379127164098696\n",
      "sample loss :  0.05115865081105774\n",
      "sample loss :  0.05171299683614141\n",
      "sample loss :  0.054852779120813766\n",
      "sample loss :  0.055701742715824364\n",
      "sample loss :  0.057922696328878795\n",
      "sample loss :  0.05853386723864385\n",
      "sample loss :  0.058943948745339626\n",
      "sample loss :  0.05938274602960571\n",
      "sample loss :  0.060703678502644805\n",
      "sample loss :  0.06140955549283587\n",
      "sample loss :  0.062366127370678585\n",
      "sample loss :  0.06430652054644924\n",
      "sample loss :  0.06582879502061716\n",
      "sample loss :  0.06602665795387656\n",
      "sample loss :  0.06717429783006522\n",
      "sample loss :  0.06771009475693329\n",
      "sample loss :  0.06797799111524004\n",
      "sample loss :  0.0687151341135811\n",
      "sample loss :  0.07017761062118318\n",
      "sample loss :  0.0761195809192638\n",
      "sample loss :  0.0776919301430199\n",
      "sample loss :  0.07785101905009821\n",
      "sample loss :  0.07814807286188762\n",
      "sample loss :  0.07871605437537192\n",
      "sample loss :  0.07982391266095713\n",
      "sample loss :  0.08092916410956315\n",
      "sample loss :  0.08124387404493442\n",
      "sample loss :  0.08181625619333083\n",
      "sample loss :  0.08195485232138845\n",
      "sample loss :  0.0824307348175348\n",
      "sample loss :  0.08320067830134573\n",
      "sample loss :  0.08438440001815693\n",
      "sample loss :  0.08549729999921017\n",
      "sample loss :  0.0913641251220229\n",
      "sample loss :  0.0919073264441106\n",
      "sample loss :  0.09203602276530885\n",
      "sample loss :  0.09219304540199989\n",
      "sample loss :  0.09248467571777982\n",
      "sample loss :  0.09300994088029743\n",
      "sample loss :  0.09515252273454626\n",
      "sample loss :  0.09544818576685507\n",
      "sample loss :  0.09624279975098955\n",
      "sample loss :  0.09655069028538822\n",
      "sample loss :  0.09681335384528014\n",
      "sample loss :  0.0985369107985545\n",
      "sample loss :  0.09938070213402829\n",
      "sample loss :  0.10024912730776751\n",
      "sample loss :  0.10045154235631969\n",
      "sample loss :  0.10149216360265706\n",
      "sample loss :  0.10224006458615503\n",
      "sample loss :  0.10453722329043422\n",
      "sample loss :  0.1048080358231669\n",
      "sample loss :  0.10511642891610422\n",
      "sample loss :  0.10531214639806237\n",
      "sample loss :  0.10552617042010268\n",
      "sample loss :  0.10682307067728006\n",
      "sample loss :  0.10737760680950237\n",
      "sample loss :  0.10849142062975956\n",
      "sample loss :  0.10926305724935154\n",
      "sample loss :  0.11049253915633092\n",
      "sample loss :  0.11118549944305564\n",
      "sample loss :  0.11144343665701494\n",
      "sample loss :  0.11154327177934423\n",
      "sample loss :  0.0006098882696342024\n",
      "sample loss :  0.0007855543356593928\n",
      "sample loss :  0.0018285693353004625\n",
      "sample loss :  0.002244937968294059\n",
      "sample loss :  0.004498590663156728\n",
      "sample loss :  0.005396164931855175\n",
      "sample loss :  0.0063238773050166685\n",
      "sample loss :  0.0063541174648900686\n",
      "sample loss :  0.007249905184059007\n",
      "sample loss :  0.00741312445362592\n",
      "sample loss :  0.007597547317362671\n",
      "sample loss :  0.008704078278640661\n",
      "sample loss :  0.009081473091692329\n",
      "sample loss :  0.009372961366698162\n",
      "sample loss :  0.00997338965814735\n",
      "sample loss :  0.010352605022789878\n",
      "sample loss :  0.010920945762935355\n",
      "sample loss :  0.011358355920736569\n",
      "sample loss :  0.011494231960526662\n",
      "sample loss :  0.011632528253130625\n",
      "sample loss :  0.011721063098806201\n",
      "sample loss :  0.012457711045577486\n",
      "sample loss :  0.012625768130518644\n",
      "sample loss :  0.01315004790613416\n",
      "sample loss :  0.013829464972076091\n",
      "sample loss :  0.014298785695699152\n",
      "sample loss :  0.014485874322361163\n",
      "sample loss :  0.016330876312856464\n",
      "sample loss :  0.016920907241500548\n",
      "sample loss :  0.017619278790200057\n",
      "sample loss :  0.018562657598805817\n",
      "sample loss :  0.01943777072221054\n",
      "sample loss :  0.020454166109823372\n",
      "sample loss :  0.020924489947023176\n",
      "sample loss :  0.02099630779984136\n",
      "sample loss :  0.02136729311261517\n",
      "sample loss :  0.021543039449405065\n",
      "sample loss :  0.02191843065423904\n",
      "sample loss :  0.0221797691104246\n",
      "sample loss :  0.02393517715098507\n",
      "sample loss :  0.02436686812780015\n",
      "sample loss :  0.02542720141423374\n",
      "sample loss :  0.025679423115837166\n",
      "sample loss :  0.02587671930333459\n",
      "sample loss :  0.02605188489042737\n",
      "sample loss :  0.02666065494392342\n",
      "sample loss :  0.02701918646664544\n",
      "sample loss :  0.027448952256817497\n",
      "sample loss :  0.028408552019097054\n",
      "sample loss :  0.029151622304123874\n",
      "sample loss :  0.02924238736220982\n",
      "sample loss :  0.029791574647237813\n",
      "sample loss :  0.03006038392245386\n",
      "sample loss :  0.03018784229649001\n",
      "sample loss :  0.030571820673003073\n",
      "sample loss :  0.03129975245917744\n",
      "sample loss :  0.03481680056948792\n",
      "sample loss :  0.035698127239613575\n",
      "sample loss :  0.03577297150309333\n",
      "sample loss :  0.03590334493351325\n",
      "sample loss :  0.036200695191310577\n",
      "sample loss :  0.036763059702774\n",
      "sample loss :  0.03732976129458382\n",
      "sample loss :  0.03748778206575148\n",
      "sample loss :  0.03779130458845844\n",
      "sample loss :  0.0378491896744454\n",
      "sample loss :  0.038075347910207426\n",
      "sample loss :  0.03849624580746259\n",
      "sample loss :  0.039116586592602684\n",
      "sample loss :  0.03970282016806798\n",
      "sample loss :  0.043385992904194336\n",
      "sample loss :  0.0436767705287188\n",
      "sample loss :  0.04373419921289875\n",
      "sample loss :  0.04381116890059614\n",
      "sample loss :  0.043961515446321334\n",
      "sample loss :  0.04423000965876635\n",
      "sample loss :  0.045520863082497566\n",
      "sample loss :  0.04567713637113679\n",
      "sample loss :  0.046131128401005646\n",
      "sample loss :  0.0462965116907563\n",
      "sample loss :  0.04642293204245288\n",
      "sample loss :  0.04741659602735793\n",
      "sample loss :  0.047906224866572866\n",
      "sample loss :  0.048415620705563\n",
      "sample loss :  0.04851257412225856\n",
      "sample loss :  0.0490928562399406\n",
      "sample loss :  0.04950106699345534\n",
      "sample loss :  0.05095443565544289\n",
      "sample loss :  0.05109053954865646\n",
      "sample loss :  0.05126337370914091\n",
      "sample loss :  0.05137004775410787\n",
      "sample loss :  0.05147565760883343\n",
      "sample loss :  0.052228208465611575\n",
      "sample loss :  0.05252986480873735\n",
      "sample loss :  0.05317667014688988\n",
      "sample loss :  0.0536388175257739\n",
      "sample loss :  0.054364791872355836\n",
      "sample loss :  0.05475820654054455\n",
      "sample loss :  0.05489405245103619\n",
      "sample loss :  0.05494663706446072\n",
      "sample loss :  0.00036266882502604246\n",
      "sample loss :  0.00045956883221319656\n",
      "sample loss :  0.0011074474484986145\n",
      "sample loss :  0.0013533648119921505\n",
      "sample loss :  0.002774576092798438\n",
      "sample loss :  0.003333840922003364\n",
      "sample loss :  0.0038849730369131196\n",
      "sample loss :  0.0038987768213813705\n",
      "sample loss :  0.004433028018054933\n",
      "sample loss :  0.004518822711711642\n",
      "sample loss :  0.00462372943921093\n",
      "sample loss :  0.005329212755894806\n",
      "sample loss :  0.00555642059291854\n",
      "sample loss :  0.005729816877153349\n",
      "sample loss :  0.0061040040384799255\n",
      "sample loss :  0.006317610484527253\n",
      "sample loss :  0.006672925384932147\n",
      "sample loss :  0.006922565050973116\n",
      "sample loss :  0.006993849609296269\n",
      "sample loss :  0.007073772919876441\n",
      "sample loss :  0.007123740161565438\n",
      "sample loss :  0.007564359672439346\n",
      "sample loss :  0.0076629175012832475\n",
      "sample loss :  0.00799231247026229\n",
      "sample loss :  0.008427714066683632\n",
      "sample loss :  0.008700621328601917\n",
      "sample loss :  0.008802522928348462\n",
      "sample loss :  0.009997144080999054\n",
      "sample loss :  0.010374371646398352\n",
      "sample loss :  0.010799831552916573\n",
      "sample loss :  0.011422105690953288\n",
      "sample loss :  0.012000178712889574\n",
      "sample loss :  0.012639616697483074\n",
      "sample loss :  0.012921305543648468\n",
      "sample loss :  0.01295912689110373\n",
      "sample loss :  0.013178941567565099\n",
      "sample loss :  0.013286072341753623\n",
      "sample loss :  0.013525074034560618\n",
      "sample loss :  0.013688938724307145\n",
      "sample loss :  0.01491043786335036\n",
      "sample loss :  0.015192348552562197\n",
      "sample loss :  0.015870091162279717\n",
      "sample loss :  0.01601709370127135\n",
      "sample loss :  0.016141262058687912\n",
      "sample loss :  0.016241105189181905\n",
      "sample loss :  0.016619500480366926\n",
      "sample loss :  0.01685275938362569\n",
      "sample loss :  0.017115007580970242\n",
      "sample loss :  0.017735116444214168\n",
      "sample loss :  0.018209999143104054\n",
      "sample loss :  0.01826524690365624\n",
      "sample loss :  0.018610915447163964\n",
      "sample loss :  0.018784021881804683\n",
      "sample loss :  0.018863229915801173\n",
      "sample loss :  0.01911586299303825\n",
      "sample loss :  0.019584489954454384\n",
      "sample loss :  0.022105349880290684\n",
      "sample loss :  0.022712262181181348\n",
      "sample loss :  0.022758155006785175\n",
      "sample loss :  0.022835032979097697\n",
      "sample loss :  0.023030311808483056\n",
      "sample loss :  0.023394022021688766\n",
      "sample loss :  0.023762194317568028\n",
      "sample loss :  0.02386304521566989\n",
      "sample loss :  0.024063590559269887\n",
      "sample loss :  0.02409644881997853\n",
      "sample loss :  0.02423597176053125\n",
      "sample loss :  0.024519251585670827\n",
      "sample loss :  0.024926585044215195\n",
      "sample loss :  0.025312066500709503\n",
      "sample loss :  0.02802414558560664\n",
      "sample loss :  0.02821687376981581\n",
      "sample loss :  0.028250504078006\n",
      "sample loss :  0.028298575490447852\n",
      "sample loss :  0.028395591938296928\n",
      "sample loss :  0.028567573822604185\n",
      "sample loss :  0.0294902164383602\n",
      "sample loss :  0.029592308848725293\n",
      "sample loss :  0.02990446498886362\n",
      "sample loss :  0.030013392890662068\n",
      "sample loss :  0.030091101812413684\n",
      "sample loss :  0.030779341117016554\n",
      "sample loss :  0.031118733200040365\n",
      "sample loss :  0.031473878656796864\n",
      "sample loss :  0.031533093337557716\n",
      "sample loss :  0.031925187080674516\n",
      "sample loss :  0.032196644490265824\n",
      "sample loss :  0.033261659991841344\n",
      "sample loss :  0.033347154222701285\n",
      "sample loss :  0.0334634696159264\n",
      "sample loss :  0.033533845974536076\n",
      "sample loss :  0.03359931526418965\n",
      "sample loss :  0.034119571263157726\n",
      "sample loss :  0.034318865911944885\n",
      "sample loss :  0.03476510559888213\n",
      "sample loss :  0.03509018491274348\n",
      "sample loss :  0.035596100145421875\n",
      "sample loss :  0.03586253422455779\n",
      "sample loss :  0.03594978375185025\n",
      "sample loss :  0.03598359786206\n",
      "sample loss :  0.000253435000130913\n",
      "sample loss :  0.00031764856204813467\n",
      "sample loss :  0.000783491423876521\n",
      "sample loss :  0.0009539786574520521\n",
      "sample loss :  0.0019873386065330056\n",
      "sample loss :  0.0023894389067295576\n",
      "sample loss :  0.002773180794711387\n",
      "sample loss :  0.0027811696280726182\n",
      "sample loss :  0.0031536758864821085\n",
      "sample loss :  0.00320836754503036\n",
      "sample loss :  0.003279050804869476\n",
      "sample loss :  0.0037936325787737185\n",
      "sample loss :  0.00395259703436733\n",
      "sample loss :  0.00407279066338877\n",
      "sample loss :  0.0043406388494227404\n",
      "sample loss :  0.004483532025908544\n",
      "sample loss :  0.004738207756893365\n",
      "sample loss :  0.00490658650538262\n",
      "sample loss :  0.004951865132828132\n",
      "sample loss :  0.00500598797216707\n",
      "sample loss :  0.005039246041789991\n",
      "sample loss :  0.005346048837607398\n",
      "sample loss :  0.0054134433814276624\n",
      "sample loss :  0.005649907898327844\n",
      "sample loss :  0.0059666367373309315\n",
      "sample loss :  0.0061527292429156425\n",
      "sample loss :  0.006219017701003803\n",
      "sample loss :  0.00709690359780759\n",
      "sample loss :  0.007370619712957916\n",
      "sample loss :  0.007669613545680954\n",
      "sample loss :  0.00813096410433228\n",
      "sample loss :  0.008559481347470317\n",
      "sample loss :  0.009018821806494378\n",
      "sample loss :  0.00921396236911573\n",
      "sample loss :  0.009237835556597154\n",
      "sample loss :  0.00938880521285319\n",
      "sample loss :  0.009463658402378686\n",
      "sample loss :  0.009635927186278854\n",
      "sample loss :  0.009752660484126166\n",
      "sample loss :  0.0106907261137418\n",
      "sample loss :  0.01089713077819837\n",
      "sample loss :  0.01138832228076712\n",
      "sample loss :  0.011487892765772039\n",
      "sample loss :  0.011576318885748022\n",
      "sample loss :  0.011642831236808883\n",
      "sample loss :  0.011911098843335462\n",
      "sample loss :  0.012081248391031403\n",
      "sample loss :  0.012264549135737355\n",
      "sample loss :  0.012716122961233454\n",
      "sample loss :  0.013058829874661528\n",
      "sample loss :  0.01309718343948993\n",
      "sample loss :  0.013343654610129244\n",
      "sample loss :  0.013468884975173213\n",
      "sample loss :  0.013524671606561494\n",
      "sample loss :  0.013710187397275577\n",
      "sample loss :  0.01404965369870702\n",
      "sample loss :  0.016023771633743775\n",
      "sample loss :  0.016484468542352613\n",
      "sample loss :  0.016516405655335048\n",
      "sample loss :  0.016568468386184036\n",
      "sample loss :  0.016711422139913498\n",
      "sample loss :  0.016975037852710092\n",
      "sample loss :  0.017242605783600446\n",
      "sample loss :  0.017314847150012976\n",
      "sample loss :  0.017462207232258296\n",
      "sample loss :  0.017483797654975555\n",
      "sample loss :  0.017581300110196298\n",
      "sample loss :  0.01779222602903633\n",
      "sample loss :  0.018090253986949842\n",
      "sample loss :  0.018372403102848718\n",
      "sample loss :  0.02053067685789144\n",
      "sample loss :  0.020672471471949835\n",
      "sample loss :  0.02069498671716117\n",
      "sample loss :  0.020728802015716887\n",
      "sample loss :  0.020798718723467054\n",
      "sample loss :  0.020921853782390313\n",
      "sample loss :  0.02163940768680306\n",
      "sample loss :  0.02171354777630912\n",
      "sample loss :  0.0219490541368165\n",
      "sample loss :  0.02202856752646353\n",
      "sample loss :  0.02208248886910146\n",
      "sample loss :  0.022604700188665026\n",
      "sample loss :  0.022862097154118504\n",
      "sample loss :  0.023132470269774906\n",
      "sample loss :  0.023173313352899697\n",
      "sample loss :  0.023465062915895462\n",
      "sample loss :  0.023664514817141564\n",
      "sample loss :  0.024505977667724915\n",
      "sample loss :  0.024566115809253768\n",
      "sample loss :  0.024652176556076398\n",
      "sample loss :  0.024703448896610504\n",
      "sample loss :  0.0247490311481788\n",
      "sample loss :  0.025142318231539833\n",
      "sample loss :  0.02528780037708739\n",
      "sample loss :  0.025624285196139913\n",
      "sample loss :  0.025872921475473296\n",
      "sample loss :  0.026257131045030448\n",
      "sample loss :  0.02645497565131553\n",
      "sample loss :  0.026517161387020993\n",
      "sample loss :  0.026541299806983196\n"
     ]
    },
    {
     "data": {
      "text/plain": [
       "[<matplotlib.lines.Line2D at 0x276661a7df0>]"
      ]
     },
     "execution_count": 206,
     "metadata": {},
     "output_type": "execute_result"
    },
    {
     "data": {
      "image/png": "[encoded data removed]",
      "text/plain": [
       "<Figure size 432x288 with 1 Axes>"
      ]
     },
     "metadata": {
      "needs_background": "light"
     },
     "output_type": "display_data"
    }
   ],
   "source": [
    "model.verbosity = 0\n",
    "Y_encoded = encode_indices(Y)\n",
    "epoch_loss = model.train(X, Y_encoded, loss_function=ce_loss_func, lr = 0.11, epochs=5)\n",
    "plt.plot(epoch_loss)"
   ]
  },
  {
   "cell_type": "code",
   "execution_count": 202,
   "id": "eadadbc0",
   "metadata": {},
   "outputs": [],
   "source": [
    "def evaluate_softmax(X, model):\n",
    "    y_hat = []\n",
    "    for i, x in enumerate(X):\n",
    "        A = model.forward_pass(x)\n",
    "        y_hat.append(np.argmax(A))\n",
    "        \n",
    "    return np.array(y_hat) "
   ]
  },
  {
   "cell_type": "code",
   "execution_count": 207,
   "id": "d878539a",
   "metadata": {},
   "outputs": [
    {
     "data": {
      "image/png": "[encoded data removed]",
      "text/plain": [
       "<Figure size 432x288 with 1 Axes>"
      ]
     },
     "metadata": {
      "needs_background": "light"
     },
     "output_type": "display_data"
    }
   ],
   "source": [
    "y_hat= evaluate_softmax(X, model)\n",
    "plt.scatter(X[:, 0], X[:, 1],c=[y_hat])\n",
    "plt.show()"
   ]
  },
  {
   "cell_type": "code",
   "execution_count": null,
   "id": "ede0aa2d",
   "metadata": {},
   "outputs": [],
   "source": [
    "def evaluate_bce(X, model):\n",
    "    y_hat = []\n",
    "    for i, x in enumerate(X):\n",
    "        A = model.forward_pass(x)\n",
    "        y_hat.append(A)\n",
    "\n",
    "    return np.array(y_hat) > 0.5"
   ]
  },
  {
   "cell_type": "code",
   "execution_count": 106,
   "id": "2568d93d",
   "metadata": {},
   "outputs": [],
   "source": [
    "def evaluate_mse(X, model):\n",
    "    y_hat = []\n",
    "    for i, x in enumerate(X):\n",
    "        A = model.forward_pass(x)\n",
    "        y_hat.append(A)\n",
    "\n",
    "    return np.array(y_hat)"
   ]
  },
  {
   "cell_type": "code",
   "execution_count": 109,
   "id": "672702d6",
   "metadata": {},
   "outputs": [
    {
     "data": {
      "image/png": "[encoded data removed]",
      "text/plain": [
       "<Figure size 432x288 with 1 Axes>"
      ]
     },
     "metadata": {
      "needs_background": "light"
     },
     "output_type": "display_data"
    }
   ],
   "source": [
    "y_hat= evaluate_mse(X, model)\n",
    "plt.scatter(range(len(y_hat)), y_hat, c='red')\n",
    "plt.scatter(range(len(Y)), Y, c='blue', alpha=0.2)\n",
    "plt.show()"
   ]
  },
  {
   "cell_type": "code",
   "execution_count": null,
   "id": "365dd208",
   "metadata": {},
   "outputs": [],
   "source": [
    "y_hat= evaluate_bce(X, model)\n",
    "plt.scatter(X[:, 0], X[:, 1],c=[y_hat])\n",
    "plt.show()"
   ]
  }
 ],
 "metadata": {
  "kernelspec": {
   "display_name": "Python 3 (ipykernel)",
   "language": "python",
   "name": "python3"
  },
  "language_info": {
   "codemirror_mode": {
    "name": "ipython",
    "version": 3
   },
   "file_extension": ".py",
   "mimetype": "text/x-python",
   "name": "python",
   "nbconvert_exporter": "python",
   "pygments_lexer": "ipython3",
   "version": "3.9.7"
  }
 },
 "nbformat": 4,
 "nbformat_minor": 5
}
