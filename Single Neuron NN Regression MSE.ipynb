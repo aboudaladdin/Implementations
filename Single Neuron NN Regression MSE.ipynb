{
 "cells": [
  {
   "cell_type": "code",
   "execution_count": 1,
   "id": "ee8d4017",
   "metadata": {},
   "outputs": [],
   "source": [
    "import numpy as np\n",
    "from numpy import array, random, dot\n",
    "import matplotlib.pyplot as plt"
   ]
  },
  {
   "cell_type": "markdown",
   "id": "41ce4b51",
   "metadata": {},
   "source": [
    "### Training Data"
   ]
  },
  {
   "cell_type": "code",
   "execution_count": 88,
   "id": "13b79e20",
   "metadata": {},
   "outputs": [
    {
     "data": {
      "image/png": "[encoded data removed]",
      "text/plain": [
       "<Figure size 432x288 with 1 Axes>"
      ]
     },
     "metadata": {
      "needs_background": "light"
     },
     "output_type": "display_data"
    }
   ],
   "source": [
    "X = np.linspace(1,10,num=10)\n",
    "Y = 2*x + 10\n",
    "\n",
    "plt.scatter(X,Y)\n",
    "plt.show()"
   ]
  },
  {
   "cell_type": "markdown",
   "id": "54eabcc2",
   "metadata": {},
   "source": [
    "## Neuron\n",
    "- Z = W.X + B\n",
    "- A = Z\n",
    "- loss = mse, (1/m)(y_hat - y)**2\n",
    "- dloss/dA = (2/m)(y_hat-y)\n",
    "- dA/dZ = 1\n",
    "- dZ/dW = X\n",
    "- dZ/dB = 1"
   ]
  },
  {
   "cell_type": "markdown",
   "id": "3d65e819",
   "metadata": {},
   "source": [
    "## Shapes\n",
    "- input = 1x1\n",
    "- W = 1x1, B = 1x1"
   ]
  },
  {
   "cell_type": "code",
   "execution_count": 94,
   "id": "a2769dea",
   "metadata": {},
   "outputs": [],
   "source": [
    "def training(X, Y, lr = 0.01, epochs = 10):\n",
    "    W = np.random.uniform(-1,1, size=(1,1))\n",
    "    b = np.random.uniform(-1,1, size=(1,1))\n",
    "\n",
    "    Z = np.zeros(shape=(1,1))\n",
    "    A = np.zeros(shape=(1,1))\n",
    "    \n",
    "    epoch_loss = []\n",
    "    \n",
    "    for epoch in range(epochs):\n",
    "        epoch_loss.append(0)\n",
    "        for i, x in enumerate(X):\n",
    "            Z = dot(x, W) + b\n",
    "            A = Z\n",
    "            loss_i = (A - Y[i])**2\n",
    "            epoch_loss[epoch] += loss_i.flatten()\n",
    "            dA = 2 * (A - Y[i])\n",
    "            dZ = 1\n",
    "            dW = dA * dZ * x\n",
    "            db = dA * dZ * 1\n",
    "        \n",
    "            W = W - lr * dW\n",
    "            b = b - lr * db\n",
    "        #print(epoch_loss[-1])\n",
    "    plt.plot(epoch_loss)\n",
    "    return W, b"
   ]
  },
  {
   "cell_type": "code",
   "execution_count": 110,
   "id": "4b3e2102",
   "metadata": {},
   "outputs": [
    {
     "data": {
      "image/png": "[encoded data removed]",
      "text/plain": [
       "<Figure size 432x288 with 1 Axes>"
      ]
     },
     "metadata": {
      "needs_background": "light"
     },
     "output_type": "display_data"
    }
   ],
   "source": [
    "W, b = training(X, Y, lr = 0.01, epochs=30)"
   ]
  },
  {
   "cell_type": "code",
   "execution_count": 113,
   "id": "c0e54744",
   "metadata": {},
   "outputs": [
    {
     "data": {
      "text/plain": [
       "array([[52.88381982]])"
      ]
     },
     "execution_count": 113,
     "metadata": {},
     "output_type": "execute_result"
    }
   ],
   "source": [
    "20 * W + b"
   ]
  },
  {
   "cell_type": "code",
   "execution_count": null,
   "id": "afa185b4",
   "metadata": {},
   "outputs": [],
   "source": []
  },
  {
   "cell_type": "code",
   "execution_count": null,
   "id": "766e8ed3",
   "metadata": {},
   "outputs": [],
   "source": []
  }
 ],
 "metadata": {
  "kernelspec": {
   "display_name": "Python 3 (ipykernel)",
   "language": "python",
   "name": "python3"
  },
  "language_info": {
   "codemirror_mode": {
    "name": "ipython",
    "version": 3
   },
   "file_extension": ".py",
   "mimetype": "text/x-python",
   "name": "python",
   "nbconvert_exporter": "python",
   "pygments_lexer": "ipython3",
   "version": "3.9.7"
  }
 },
 "nbformat": 4,
 "nbformat_minor": 5
}
