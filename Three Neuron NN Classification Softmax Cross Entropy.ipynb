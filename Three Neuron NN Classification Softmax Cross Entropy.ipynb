{
 "cells": [
  {
   "cell_type": "code",
   "execution_count": 14,
   "id": "47e6e700",
   "metadata": {},
   "outputs": [],
   "source": [
    "import numpy as np\n",
    "from numpy import array, random, dot\n",
    "import matplotlib.pyplot as plt\n",
    "import seaborn as sns\n",
    "from sklearn import datasets\n",
    "from sklearn.preprocessing import OneHotEncoder"
   ]
  },
  {
   "cell_type": "markdown",
   "id": "51ce2245",
   "metadata": {},
   "source": [
    "### Training Data"
   ]
  },
  {
   "cell_type": "code",
   "execution_count": 111,
   "id": "1ea035d9",
   "metadata": {},
   "outputs": [],
   "source": [
    "X, Y = datasets.make_blobs(n_samples=100, n_features=2, centers=3)"
   ]
  },
  {
   "cell_type": "code",
   "execution_count": 112,
   "id": "d685b74d",
   "metadata": {},
   "outputs": [
    {
     "data": {
      "image/png": "[encoded data removed]",
      "text/plain": [
       "<Figure size 432x288 with 1 Axes>"
      ]
     },
     "metadata": {
      "needs_background": "light"
     },
     "output_type": "display_data"
    }
   ],
   "source": [
    "plt.scatter(X[:, 0], X[:, 1],c=[Y], cmap='viridis')\n",
    "plt.show()"
   ]
  },
  {
   "cell_type": "code",
   "execution_count": 79,
   "id": "beb5d11d",
   "metadata": {},
   "outputs": [],
   "source": [
    "def encode_indices(y):\n",
    "    '''\n",
    "    Simple one hot encoder for softmax \n",
    "    y = all target labels (1,2,0,...,2)\n",
    "    '''\n",
    "    b = np.zeros((y.size, y.max() + 1))\n",
    "    b[np.arange(y.size), y] = 1\n",
    "    return b"
   ]
  },
  {
   "cell_type": "markdown",
   "id": "9adc0f3c",
   "metadata": {},
   "source": [
    "## Neurons\n",
    "- 3 neurons\n",
    "- Z = W.X + B\n",
    "- A = softmax(Z)\n",
    "- loss : \n",
    "    - softmax cross-entropy, CE = - sum(y_c * log(A_c)) where c is the class propability\n",
    "    - **== - dot_product(y , log(A))**\n",
    "\n",
    "- dloss/dA Vector form: \n",
    "    - dL/dA = - (dL/dA1 , dL/dA2)\n",
    "    - dL/dA = - (dA1 , dA2) simplified vector form\n",
    "    - dA1 = - y1/A1, dA2 = - y1/A2,\n",
    "    - **dA = - ( y / A )** vector form\n",
    "    - we will keep the vector form of dL/dA for later multiplications\n",
    "    \n",
    "- dA/dZ :\n",
    "    - d/dZ = (dZ1, dZ2) simplified vector form\n",
    "    - dZ1 = (a1*(1-a1),  - aj * a1)\n",
    "    - dZ2 = (- a2 * a1, a2*(1-a2))\n",
    "    - **(... ... ...)nxn matrix (i = row index, j = column index)**\n",
    "        - with diagonals => ai * (1-ai)\n",
    "        - otherwise => -ai*aj\n",
    "- dZ/dW = X\n",
    "- dZ/dB = 1"
   ]
  },
  {
   "cell_type": "markdown",
   "id": "d32f8c1e",
   "metadata": {},
   "source": [
    "## Shapes\n",
    "- input = 1x2\n",
    "- W = 2x3, B = 1x3\n",
    "- Z = 1x3\n",
    "- A = 1x3"
   ]
  },
  {
   "cell_type": "code",
   "execution_count": 56,
   "id": "59d6bab1",
   "metadata": {},
   "outputs": [],
   "source": [
    "def softmax(z):\n",
    "    # Not Stable, x minus x_max better\n",
    "    exp_outputs = np.exp(z)\n",
    "    probabilities = exp_outputs / np.sum(exp_outputs, axis=1, keepdims=True)\n",
    "    return probabilities"
   ]
  },
  {
   "cell_type": "code",
   "execution_count": 132,
   "id": "642dfab1",
   "metadata": {},
   "outputs": [],
   "source": [
    "def softmax_grad(A):\n",
    "    # vectorized form\n",
    "    return np.diagflat(A) - np.outer(A, A)"
   ]
  },
  {
   "cell_type": "code",
   "execution_count": 127,
   "id": "f31ee443",
   "metadata": {},
   "outputs": [
    {
     "data": {
      "text/plain": [
       "array([[ 0, -2, -3],\n",
       "       [-2, -2, -6],\n",
       "       [-3, -6, -6]])"
      ]
     },
     "execution_count": 127,
     "metadata": {},
     "output_type": "execute_result"
    }
   ],
   "source": [
    "softmax_derivative(A)"
   ]
  },
  {
   "cell_type": "code",
   "execution_count": 57,
   "id": "05fdb9dd",
   "metadata": {},
   "outputs": [],
   "source": [
    "def softmax_derivative(A):\n",
    "    '''\n",
    "    matrix form (n,n) size\n",
    "    diagonals derivative => ai(1-ai) , i = row index\n",
    "    otherwise => -ai x aj, j = column index\n",
    "    [ai(1-ai) ...  -ai x aj]\n",
    "    [...    ai(1-ai)    ...]\n",
    "    [...      ...       ...]\n",
    "    [-ai x aj ...  aj(1-aj)]\n",
    "    '''\n",
    "    dZ = np.diag(A)\n",
    "    for i in range(len(A)):\n",
    "        for j in range(len(A)):\n",
    "            if i==j:\n",
    "                dZ[i, j] = A[i] * (1- A[i])\n",
    "            else:\n",
    "                dZ[i, j] = -A[i] * A[j]\n",
    "    return dZ"
   ]
  },
  {
   "cell_type": "code",
   "execution_count": 104,
   "id": "c1ef4e4b",
   "metadata": {},
   "outputs": [],
   "source": [
    "def training(X, Y, lr = 0.01, epochs = 10):\n",
    "    W = np.random.uniform(-1,1, size=(3,2)) # size(n_units, A_prev dimension)\n",
    "    b = np.random.uniform(-1,1, size=(1,3)) # size(1, n_units)\n",
    "\n",
    "    Z = np.zeros(shape=(1,3))\n",
    "    A = np.zeros(shape=(1,3))\n",
    "    \n",
    "    epoch_loss = []\n",
    "    \n",
    "    for epoch in range(epochs):\n",
    "        epoch_loss.append(0)\n",
    "        for i, x in enumerate(X):\n",
    "            \n",
    "            # forward\n",
    "            Z = dot(x, W.T) + b\n",
    "            A = softmax(Z).flatten()\n",
    "            y_encoded = Y[i].flatten()\n",
    "  \n",
    "            # loss\n",
    "            loss_i = - dot(y_encoded, np.log(A)) # CE\n",
    "            \n",
    "            # backward\n",
    "            dA =   - y_encoded / A # [1x3]\n",
    " \n",
    "            dZ = softmax_derivative(A) # [3x3]\n",
    "            dW = np.outer(dot(dA , dZ) , x) # outer product  ([1x3].[3x3])  (x) [1x2] => [3x2]\n",
    "            db = dot(dA , dZ) * 1 # [1x3]\n",
    "        \n",
    "            W = W - lr * dW\n",
    "            b = b - lr * db\n",
    "            epoch_loss[epoch] += loss_i\n",
    "            \n",
    "        #print(epoch_loss[-1])\n",
    "    plt.plot(epoch_loss)\n",
    "    print('last loss', epoch_loss[-1])\n",
    "    return W, b"
   ]
  },
  {
   "cell_type": "code",
   "execution_count": 113,
   "id": "3a82a821",
   "metadata": {},
   "outputs": [
    {
     "name": "stdout",
     "output_type": "stream",
     "text": [
      "last loss 35.49522168379316\n"
     ]
    },
    {
     "data": {
      "image/png": "[encoded data removed]",
      "text/plain": [
       "<Figure size 432x288 with 1 Axes>"
      ]
     },
     "metadata": {
      "needs_background": "light"
     },
     "output_type": "display_data"
    }
   ],
   "source": [
    "y_encoded = encode_indices(Y)\n",
    "W, b = training(X, y_encoded, lr = 0.01, epochs=150)"
   ]
  },
  {
   "cell_type": "code",
   "execution_count": 123,
   "id": "25d5bbb0",
   "metadata": {},
   "outputs": [],
   "source": [
    "def evaluate(X, W, b):\n",
    "    y_hat = []\n",
    "    for i, x in enumerate(X):\n",
    "        Z = dot(x, W.T) + b\n",
    "        A = softmax(Z)\n",
    "        y_hat.append(np.argmax(A))\n",
    "        \n",
    "    return np.array(y_hat) "
   ]
  },
  {
   "cell_type": "code",
   "execution_count": 124,
   "id": "c8f46b29",
   "metadata": {},
   "outputs": [
    {
     "data": {
      "image/png": "[encoded data removed]",
      "text/plain": [
       "<Figure size 432x288 with 1 Axes>"
      ]
     },
     "metadata": {
      "needs_background": "light"
     },
     "output_type": "display_data"
    }
   ],
   "source": [
    "y_hat= evaluate(X, W, b)\n",
    "plt.scatter(X[:, 0], X[:, 1],c=[y_hat])\n",
    "plt.show()"
   ]
  }
 ],
 "metadata": {
  "kernelspec": {
   "display_name": "Python 3 (ipykernel)",
   "language": "python",
   "name": "python3"
  },
  "language_info": {
   "codemirror_mode": {
    "name": "ipython",
    "version": 3
   },
   "file_extension": ".py",
   "mimetype": "text/x-python",
   "name": "python",
   "nbconvert_exporter": "python",
   "pygments_lexer": "ipython3",
   "version": "3.9.7"
  }
 },
 "nbformat": 4,
 "nbformat_minor": 5
}
